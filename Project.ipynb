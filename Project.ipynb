{
 "cells": [
  {
   "cell_type": "code",
   "execution_count": 11,
   "id": "a9f31195-c78c-46dd-ae58-fff595b2cbbc",
   "metadata": {},
   "outputs": [],
   "source": [
    "from cryptography.fernet import Fernet \n",
    "from sklearn.model_selection import train_test_split\n",
    "import pandas as pd"
   ]
  },
  {
   "cell_type": "code",
   "execution_count": 12,
   "id": "7c0b6762-2a8f-4792-ad49-ce444ba8d487",
   "metadata": {},
   "outputs": [],
   "source": [
    "from sklearn.feature_extraction.text import CountVectorizer\n",
    "from sklearn.naive_bayes import MultinomialNB"
   ]
  },
  {
   "cell_type": "code",
   "execution_count": 13,
   "id": "5933fd86-fb77-4cb9-8975-510493b0e8df",
   "metadata": {},
   "outputs": [],
   "source": [
    "def generate_key():\n",
    "    return Fernet.generate_key()"
   ]
  },
  {
   "cell_type": "code",
   "execution_count": 14,
   "id": "d01a7bca-d3b4-472d-8af3-f76cfe3d36f8",
   "metadata": {},
   "outputs": [],
   "source": [
    "def encrypt_message(key,message):\n",
    "    plain = Fernet(key)\n",
    "    encrypted_message = plain.encrypt(message.encode())\n",
    "    return encrypted_message"
   ]
  },
  {
   "cell_type": "code",
   "execution_count": 15,
   "id": "3b4cf253-785f-4743-aac7-67a8765d4a21",
   "metadata": {},
   "outputs": [],
   "source": [
    "def decrypt_message(key,encrypted_message):\n",
    "    cipher = Fernet(key)\n",
    "    decrypted_message = cipher.decrypt(encrypted_message.decode())\n",
    "    return decrypted_message"
   ]
  },
  {
   "cell_type": "code",
   "execution_count": 16,
   "id": "1a3397fa-e83e-4d55-8f12-e644a08d6fb1",
   "metadata": {},
   "outputs": [],
   "source": [
    "def main():\n",
    "    \n",
    "    data= pd.read_csv(\"message.csv\")\n",
    "    x = data['message']\n",
    "    y = data['label']\n",
    "\n",
    "   #Text format X(message) converted to numerical format for Machine to Understand\n",
    "    vectorizer = CountVectorizer()\n",
    "    x2 = vectorizer.fit_transform(x)\n",
    "\n",
    "    #Split Data in train and test from the model\n",
    "    x_train,x_test,y_train,y_test = train_test_split(x2,y,test_size=0.2)\n",
    "\n",
    "    # Precidation and classify of Data\n",
    "    model = MultinomialNB()\n",
    "    model.fit(x_train,y_train)\n",
    "    print(f\"Model accuracy: {model.score(x_test, y_test) * 100:.2f}%\") #Testing the model Accurary capacity of prediction\n",
    "\n",
    "    key = generate_key()\n",
    "    Usermessage = input(\"enter the message:\")\n",
    "    message = vectorizer.transform([Usermessage]) #checking pattern inorder to predict\n",
    "    prediction = model.predict(message)[0] #model predict\n",
    "\n",
    "    if prediction == 1:\n",
    "        print(\"message entered is senstivity should be encrypted\")\n",
    "        encrypted_message = encrypt_message(key,Usermessage)\n",
    "        print(f\"The ENCRYPTED MESSAGE is :{encrypted_message}\")\n",
    "    else:\n",
    "        print(\"message entered is not senstivity no need to encrypt\")\n",
    "        print(f\"the message entered is: {Usermessage}\")\n",
    "       "
   ]
  },
  {
   "cell_type": "code",
   "execution_count": 17,
   "id": "95df3e13-d728-43b6-abfa-cbe19536d4c9",
   "metadata": {},
   "outputs": [
    {
     "name": "stdout",
     "output_type": "stream",
     "text": [
      "Model accuracy: 100.00%\n"
     ]
    },
    {
     "name": "stdin",
     "output_type": "stream",
     "text": [
      "enter the message: god\n"
     ]
    },
    {
     "name": "stdout",
     "output_type": "stream",
     "text": [
      "message entered is not senstivity no need to encrypt\n",
      "the message entered is: god\n"
     ]
    }
   ],
   "source": [
    "if __name__ == \"__main__\":\n",
    "      main()"
   ]
  },
  {
   "cell_type": "code",
   "execution_count": null,
   "id": "5e3af076-100e-4c04-836f-2f88e95ba0ab",
   "metadata": {},
   "outputs": [],
   "source": []
  }
 ],
 "metadata": {
  "kernelspec": {
   "display_name": "Python 3 (ipykernel)",
   "language": "python",
   "name": "python3"
  },
  "language_info": {
   "codemirror_mode": {
    "name": "ipython",
    "version": 3
   },
   "file_extension": ".py",
   "mimetype": "text/x-python",
   "name": "python",
   "nbconvert_exporter": "python",
   "pygments_lexer": "ipython3",
   "version": "3.13.0"
  }
 },
 "nbformat": 4,
 "nbformat_minor": 5
}
